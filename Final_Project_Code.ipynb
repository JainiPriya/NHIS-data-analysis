{
  "nbformat": 4,
  "nbformat_minor": 0,
  "metadata": {
    "colab": {
      "provenance": []
    },
    "kernelspec": {
      "name": "python3",
      "display_name": "Python 3"
    },
    "language_info": {
      "name": "python"
    }
  },
  "cells": [
    {
      "cell_type": "code",
      "execution_count": 1,
      "metadata": {
        "colab": {
          "base_uri": "https://localhost:8080/"
        },
        "id": "lNsU0GDzfbky",
        "outputId": "93102b1b-ae0c-480d-e6b2-df6006ddacad"
      },
      "outputs": [
        {
          "output_type": "stream",
          "name": "stdout",
          "text": [
            "<class 'pandas.core.frame.DataFrame'>\n",
            "RangeIndex: 27651 entries, 0 to 27650\n",
            "Columns: 637 entries, URBRRL to POVRATTC_A\n",
            "dtypes: float64(399), int64(237), object(1)\n",
            "memory usage: 134.4+ MB\n"
          ]
        }
      ],
      "source": [
        "import pandas as pd\n",
        "import numpy as np\n",
        "data=pd.read_csv(\"adult22.csv\")\n",
        "data.info()"
      ]
    },
    {
      "cell_type": "code",
      "source": [
        "mental_health =\"URBRRL, REGION, SEX_A, AGEP_A, HISPALLP_A, EDUCP_A, PHSTAT_A, HYPEV_A, CHLEV_A, CHDEV_A, ASEV_A, CANEV_A, DIBEV_A, DIBTYPE_A, COPDEV_A, ARTHEV_A, DEMENEV_A, ANXEV_A,DEPEV_A, CFSEV_A, MEDRXTRT_A, HLTHCOND_A, EPIEV_A, BMICAT_A, VISIONDF_A, HEARINGDF_A, DIFF_A, COMDIFF_A, SOCWRKLIM_A, CVDDIAG_A, MHTHRPY_A, MHTHND_A, MHTHDLY_A,SMKCIGST_A, SMKECIGST_A, CIGAREV_A, DRKSTAT_A, SLPHOURS_A, MEDITATE_A, ORIENT_A, MARSTAT_A, PARSTAT_A, EMPWRKFT1_A\"\n",
        "mental_health_list = [attr.strip() for attr in mental_health.split(\",\")]"
      ],
      "metadata": {
        "id": "w9dZLZenf4hw"
      },
      "execution_count": 2,
      "outputs": []
    },
    {
      "cell_type": "code",
      "source": [
        "healthcare_access =\"URBRRL, REGION, SEX_A, AGEP_A, HISPALLP_A, EDUCP_A, PHSTAT_A, HYPEV_A, CHLEV_A, CHDEV_A, ASEV_A, CANEV_A, DIBEV_A, DIBTYPE_A, COPDEV_A, ARTHEV_A, DEMENEV_A, CFSEV_A, MEDRXTRT_A, HLTHCOND_A, EPIEV_A, BMICAT_A, VISIONDF_A, HEARINGDF_A, DIFF_A, COMDIFF_A, SOCWRKLIM_A, CVDDIAG_A, MHTHND_A, MHTHDLY_A, SMKCIGST_A, SMKECIGST_A, CIGAREV_A, DRKSTAT_A,  ORIENT_A, MARSTAT_A, PARSTAT_A, EMPWRKFT1_A, EMPHEALINS_A, RATCAT_A, TRANSPOR_A, NOTCOV_A, HICOV_A, LASTDR_A, USUALPL_A, URGNT12MTC_A, EMERG12MTC_A, MEDDL12M_A, MEDNG12M_A, ABINSUR_A, ABAVAIL_A, ABOPEN_A, ABTOOLONG_A, ABTIME_A, RXSK12M_A, RXLS12M_A, RXDL12M_A, RXDG12M_A,PAYBLL12M_A, PAYWORRY_A, HISTOPMISS_A, HISTOPAGE_A, HISTOPCOST_A, HISTOPELIG_A, RSNHICOST_A, RSNHIWANT_A, RSNHIELIG_A, RSNHICONF_A, RSNHIMEET_A, RSNHIWAIT_A, RSNHIOTH_A\"\n",
        "healthcare_access_list = [attr.strip() for attr in healthcare_access.split(\",\")]"
      ],
      "metadata": {
        "id": "Nq1a5nsnpjdW"
      },
      "execution_count": 3,
      "outputs": []
    },
    {
      "cell_type": "code",
      "source": [
        "mh_data=data[mental_health_list]\n",
        "ha_data=data[healthcare_access_list]"
      ],
      "metadata": {
        "id": "tQehl5slgTkq"
      },
      "execution_count": 4,
      "outputs": []
    },
    {
      "cell_type": "code",
      "source": [
        "mh_data.info()"
      ],
      "metadata": {
        "colab": {
          "base_uri": "https://localhost:8080/"
        },
        "id": "5XVD869rqFck",
        "outputId": "9adb449d-a5a0-4b5f-df22-f9e0b3cbf6d5"
      },
      "execution_count": 5,
      "outputs": [
        {
          "output_type": "stream",
          "name": "stdout",
          "text": [
            "<class 'pandas.core.frame.DataFrame'>\n",
            "RangeIndex: 27651 entries, 0 to 27650\n",
            "Data columns (total 43 columns):\n",
            " #   Column       Non-Null Count  Dtype  \n",
            "---  ------       --------------  -----  \n",
            " 0   URBRRL       27651 non-null  int64  \n",
            " 1   REGION       27651 non-null  int64  \n",
            " 2   SEX_A        27651 non-null  int64  \n",
            " 3   AGEP_A       27651 non-null  int64  \n",
            " 4   HISPALLP_A   27651 non-null  int64  \n",
            " 5   EDUCP_A      27651 non-null  int64  \n",
            " 6   PHSTAT_A     27651 non-null  int64  \n",
            " 7   HYPEV_A      27651 non-null  int64  \n",
            " 8   CHLEV_A      27651 non-null  int64  \n",
            " 9   CHDEV_A      27651 non-null  int64  \n",
            " 10  ASEV_A       27651 non-null  int64  \n",
            " 11  CANEV_A      27651 non-null  int64  \n",
            " 12  DIBEV_A      27651 non-null  int64  \n",
            " 13  DIBTYPE_A    2946 non-null   float64\n",
            " 14  COPDEV_A     27651 non-null  int64  \n",
            " 15  ARTHEV_A     27651 non-null  int64  \n",
            " 16  DEMENEV_A    27651 non-null  int64  \n",
            " 17  ANXEV_A      27651 non-null  int64  \n",
            " 18  DEPEV_A      27651 non-null  int64  \n",
            " 19  CFSEV_A      27651 non-null  int64  \n",
            " 20  MEDRXTRT_A   27651 non-null  int64  \n",
            " 21  HLTHCOND_A   27651 non-null  int64  \n",
            " 22  EPIEV_A      27651 non-null  int64  \n",
            " 23  BMICAT_A     27651 non-null  int64  \n",
            " 24  VISIONDF_A   27651 non-null  int64  \n",
            " 25  HEARINGDF_A  27651 non-null  int64  \n",
            " 26  DIFF_A       27651 non-null  int64  \n",
            " 27  COMDIFF_A    27651 non-null  int64  \n",
            " 28  SOCWRKLIM_A  27651 non-null  int64  \n",
            " 29  CVDDIAG_A    27651 non-null  int64  \n",
            " 30  MHTHRPY_A    27651 non-null  int64  \n",
            " 31  MHTHND_A     27651 non-null  int64  \n",
            " 32  MHTHDLY_A    27651 non-null  int64  \n",
            " 33  SMKCIGST_A   27651 non-null  int64  \n",
            " 34  SMKECIGST_A  27651 non-null  int64  \n",
            " 35  CIGAREV_A    27651 non-null  int64  \n",
            " 36  DRKSTAT_A    27651 non-null  int64  \n",
            " 37  SLPHOURS_A   27651 non-null  int64  \n",
            " 38  MEDITATE_A   27651 non-null  int64  \n",
            " 39  ORIENT_A     27651 non-null  int64  \n",
            " 40  MARSTAT_A    27651 non-null  int64  \n",
            " 41  PARSTAT_A    27651 non-null  int64  \n",
            " 42  EMPWRKFT1_A  15354 non-null  float64\n",
            "dtypes: float64(2), int64(41)\n",
            "memory usage: 9.1 MB\n"
          ]
        }
      ]
    },
    {
      "cell_type": "code",
      "source": [
        "ha_data.info()"
      ],
      "metadata": {
        "colab": {
          "base_uri": "https://localhost:8080/"
        },
        "id": "zC2skttegVHe",
        "outputId": "46d3884b-b20d-40a0-9514-fe855acb06dc"
      },
      "execution_count": 6,
      "outputs": [
        {
          "output_type": "stream",
          "name": "stdout",
          "text": [
            "<class 'pandas.core.frame.DataFrame'>\n",
            "RangeIndex: 27651 entries, 0 to 27650\n",
            "Data columns (total 71 columns):\n",
            " #   Column        Non-Null Count  Dtype  \n",
            "---  ------        --------------  -----  \n",
            " 0   URBRRL        27651 non-null  int64  \n",
            " 1   REGION        27651 non-null  int64  \n",
            " 2   SEX_A         27651 non-null  int64  \n",
            " 3   AGEP_A        27651 non-null  int64  \n",
            " 4   HISPALLP_A    27651 non-null  int64  \n",
            " 5   EDUCP_A       27651 non-null  int64  \n",
            " 6   PHSTAT_A      27651 non-null  int64  \n",
            " 7   HYPEV_A       27651 non-null  int64  \n",
            " 8   CHLEV_A       27651 non-null  int64  \n",
            " 9   CHDEV_A       27651 non-null  int64  \n",
            " 10  ASEV_A        27651 non-null  int64  \n",
            " 11  CANEV_A       27651 non-null  int64  \n",
            " 12  DIBEV_A       27651 non-null  int64  \n",
            " 13  DIBTYPE_A     2946 non-null   float64\n",
            " 14  COPDEV_A      27651 non-null  int64  \n",
            " 15  ARTHEV_A      27651 non-null  int64  \n",
            " 16  DEMENEV_A     27651 non-null  int64  \n",
            " 17  CFSEV_A       27651 non-null  int64  \n",
            " 18  MEDRXTRT_A    27651 non-null  int64  \n",
            " 19  HLTHCOND_A    27651 non-null  int64  \n",
            " 20  EPIEV_A       27651 non-null  int64  \n",
            " 21  BMICAT_A      27651 non-null  int64  \n",
            " 22  VISIONDF_A    27651 non-null  int64  \n",
            " 23  HEARINGDF_A   27651 non-null  int64  \n",
            " 24  DIFF_A        27651 non-null  int64  \n",
            " 25  COMDIFF_A     27651 non-null  int64  \n",
            " 26  SOCWRKLIM_A   27651 non-null  int64  \n",
            " 27  CVDDIAG_A     27651 non-null  int64  \n",
            " 28  MHTHND_A      27651 non-null  int64  \n",
            " 29  MHTHDLY_A     27651 non-null  int64  \n",
            " 30  SMKCIGST_A    27651 non-null  int64  \n",
            " 31  SMKECIGST_A   27651 non-null  int64  \n",
            " 32  CIGAREV_A     27651 non-null  int64  \n",
            " 33  DRKSTAT_A     27651 non-null  int64  \n",
            " 34  ORIENT_A      27651 non-null  int64  \n",
            " 35  MARSTAT_A     27651 non-null  int64  \n",
            " 36  PARSTAT_A     27651 non-null  int64  \n",
            " 37  EMPWRKFT1_A   15354 non-null  float64\n",
            " 38  EMPHEALINS_A  16728 non-null  float64\n",
            " 39  RATCAT_A      27651 non-null  int64  \n",
            " 40  TRANSPOR_A    27651 non-null  int64  \n",
            " 41  NOTCOV_A      27651 non-null  int64  \n",
            " 42  HICOV_A       27651 non-null  int64  \n",
            " 43  LASTDR_A      27651 non-null  int64  \n",
            " 44  USUALPL_A     27651 non-null  int64  \n",
            " 45  URGNT12MTC_A  27651 non-null  int64  \n",
            " 46  EMERG12MTC_A  27651 non-null  int64  \n",
            " 47  MEDDL12M_A    27651 non-null  int64  \n",
            " 48  MEDNG12M_A    27651 non-null  int64  \n",
            " 49  ABINSUR_A     27651 non-null  int64  \n",
            " 50  ABAVAIL_A     27651 non-null  int64  \n",
            " 51  ABOPEN_A      27651 non-null  int64  \n",
            " 52  ABTOOLONG_A   27651 non-null  int64  \n",
            " 53  ABTIME_A      27651 non-null  int64  \n",
            " 54  RXSK12M_A     19659 non-null  float64\n",
            " 55  RXLS12M_A     19659 non-null  float64\n",
            " 56  RXDL12M_A     19659 non-null  float64\n",
            " 57  RXDG12M_A     27651 non-null  int64  \n",
            " 58  PAYBLL12M_A   27651 non-null  int64  \n",
            " 59  PAYWORRY_A    27651 non-null  int64  \n",
            " 60  HISTOPMISS_A  963 non-null    float64\n",
            " 61  HISTOPAGE_A   963 non-null    float64\n",
            " 62  HISTOPCOST_A  963 non-null    float64\n",
            " 63  HISTOPELIG_A  963 non-null    float64\n",
            " 64  RSNHICOST_A   2056 non-null   float64\n",
            " 65  RSNHIWANT_A   2056 non-null   float64\n",
            " 66  RSNHIELIG_A   2056 non-null   float64\n",
            " 67  RSNHICONF_A   2056 non-null   float64\n",
            " 68  RSNHIMEET_A   2056 non-null   float64\n",
            " 69  RSNHIWAIT_A   2056 non-null   float64\n",
            " 70  RSNHIOTH_A    2056 non-null   float64\n",
            "dtypes: float64(17), int64(54)\n",
            "memory usage: 15.0 MB\n"
          ]
        }
      ]
    },
    {
      "cell_type": "code",
      "source": [
        "missing_columns = mh_data.columns[mh_data.isnull().any()]\n",
        "missing_data = mh_data[missing_columns].isnull().sum()\n",
        "\n",
        "print(\"Columns with Missing Values:\")\n",
        "print(missing_data)"
      ],
      "metadata": {
        "colab": {
          "base_uri": "https://localhost:8080/"
        },
        "id": "5DhzVGn2gWB_",
        "outputId": "8496885e-c706-48ac-f4d3-6fe3f4056ed2"
      },
      "execution_count": 7,
      "outputs": [
        {
          "output_type": "stream",
          "name": "stdout",
          "text": [
            "Columns with Missing Values:\n",
            "DIBTYPE_A      24705\n",
            "EMPWRKFT1_A    12297\n",
            "dtype: int64\n"
          ]
        }
      ]
    },
    {
      "cell_type": "code",
      "source": [
        "# assert(np.isnan(mh_data[mh_data['DIBEV_A'] != 1]['DIBTYPE_A'].to_numpy()).all())\n",
        "# assert(not np.isnan(mh_data[mh_data['DIBEV_A'] == 1]['DIBTYPE_A'].to_numpy()).any())\n",
        "mh_data['DIBTYPE_A'].fillna(-1, inplace=True, downcast='infer')\n",
        "print(mh_data['DIBTYPE_A'].isnull().sum(), end=\" \")\n",
        "mh_data['EMPWRKFT1_A'].fillna(-1, inplace=True, downcast='infer')\n",
        "print(mh_data['EMPWRKFT1_A'].isnull().sum())"
      ],
      "metadata": {
        "colab": {
          "base_uri": "https://localhost:8080/"
        },
        "id": "VTjBNigNuP5W",
        "outputId": "219e4062-dad6-48a3-c4dc-d9f892c2492b"
      },
      "execution_count": 8,
      "outputs": [
        {
          "output_type": "stream",
          "name": "stdout",
          "text": [
            "0 0\n"
          ]
        },
        {
          "output_type": "stream",
          "name": "stderr",
          "text": [
            "<ipython-input-8-33d9b436c436>:3: SettingWithCopyWarning: \n",
            "A value is trying to be set on a copy of a slice from a DataFrame\n",
            "\n",
            "See the caveats in the documentation: https://pandas.pydata.org/pandas-docs/stable/user_guide/indexing.html#returning-a-view-versus-a-copy\n",
            "  mh_data['DIBTYPE_A'].fillna(-1, inplace=True, downcast='infer')\n",
            "<ipython-input-8-33d9b436c436>:5: SettingWithCopyWarning: \n",
            "A value is trying to be set on a copy of a slice from a DataFrame\n",
            "\n",
            "See the caveats in the documentation: https://pandas.pydata.org/pandas-docs/stable/user_guide/indexing.html#returning-a-view-versus-a-copy\n",
            "  mh_data['EMPWRKFT1_A'].fillna(-1, inplace=True, downcast='infer')\n"
          ]
        }
      ]
    },
    {
      "cell_type": "code",
      "source": [
        "lambdas = [\n",
        "  lambda x: True,\n",
        "  lambda x: True,\n",
        "  lambda x: 'mode' if x not in [1,2] else True,\n",
        "  lambda x: 'mean' if x in [97,98,99] else True,\n",
        "  lambda x: True,\n",
        "  lambda x: 'mode' if x in [97,98,99] else True,\n",
        "  lambda x: 'mode' if x not in [1,2,3,4,5] else True,\n",
        "  lambda x: 'mode' if x not in [1,2] else True,\n",
        "  lambda x: 'mode' if x not in [1,2] else True,\n",
        "  lambda x: 'mode' if x not in [1,2] else True,\n",
        "  lambda x: 'mode' if x not in [1,2] else True,\n",
        "  lambda x: 'mode' if x not in [1,2] else True,\n",
        "  lambda x: 'mode' if x not in [1,2] else True,\n",
        "  lambda x: 'mode' if x not in [-1,1,2,3] else True,\n",
        "  lambda x: 'mode' if x not in [1,2] else True,\n",
        "  lambda x: 'mode' if x not in [1,2] else True,\n",
        "  lambda x: 'mode' if x not in [1,2] else True,\n",
        "  lambda x: 'mode' if x not in [1,2] else True,\n",
        "  lambda x: 'mode' if x not in [1,2] else True,\n",
        "  lambda x: 'mode' if x not in [1,2] else True,\n",
        "  lambda x: 'mode' if x not in [1,2] else True,\n",
        "  lambda x: 'mode' if x not in [1,2] else True,\n",
        "  lambda x: 'mode' if x not in [1,2] else True,\n",
        "  lambda x: 'mode' if x not in [1,2,3,4] else True,\n",
        "  lambda x: 'mode' if x not in [1,2,3,4] else True,\n",
        "  lambda x: 'mode' if x not in [1,2,3,4] else True,\n",
        "  lambda x: 'mode' if x not in [1,2,3,4] else True,\n",
        "  lambda x: 'mode' if x not in [1,2,3,4] else True,\n",
        "  lambda x: 'mode' if x not in [1,2] else True,\n",
        "  lambda x: 'mode' if x not in [1,2] else True,\n",
        "  lambda x: 'mode' if x not in [1,2] else True,\n",
        "  lambda x: 'mode' if x not in [1,2] else True,\n",
        "  lambda x: 'mode' if x not in [1,2] else True,\n",
        "  lambda x: 'mode' if x not in [1,2,3,4] else True,\n",
        "  lambda x: 'mode' if x not in [1,2,3] else True,\n",
        "  lambda x: 'mode' if x not in [1,2] else True,\n",
        "  lambda x: 'mode' if x in [10] else True,\n",
        "  lambda x: 'mean' if x in [97,98,99] else True,\n",
        "  lambda x: 'mode' if x not in [1,2] else True,\n",
        "  lambda x: 'mode' if x not in [1,2,3,4] else True,\n",
        "  lambda x: 'mode' if x in [9] else True,\n",
        "  lambda x: 'mode' if x not in [1,2,3] else True,\n",
        "  lambda x: 'mode' if x not in [-1,1,2] else True\n",
        "]"
      ],
      "metadata": {
        "id": "PY2Rltou6L3X"
      },
      "execution_count": 9,
      "outputs": []
    },
    {
      "cell_type": "code",
      "source": [
        "def replace_values_with_custom_functions(df, custom_functions_list):\n",
        "    for idx, column_name in enumerate(df.columns):\n",
        "        # print(len(df.columns), len(custom_functions_list), idx)\n",
        "        custom_function = custom_functions_list[idx]\n",
        "        if column_name == \"SLPHOURS_A\":\n",
        "            mean_value = df[(df[column_name] >= 1) & (df[column_name] <= 24)][column_name].mean()\n",
        "            std_dev = df[(df[column_name] >= 1) & (df[column_name] <= 24)][column_name].to_numpy().std()\n",
        "            random_sample = np.random.default_rng().normal(loc=mean_value, scale=std_dev, size=1)\n",
        "        if column_name == \"AGEP_A\":\n",
        "            mean_value = df[(df[column_name] >= 18) & (df[column_name] <= 85)][column_name].mean()\n",
        "            std_dev = df[(df[column_name] >= 18) & (df[column_name] <= 85)][column_name].to_numpy().std()\n",
        "            random_sample = np.random.default_rng().normal(loc=mean_value, scale=std_dev, size=1)\n",
        "        mode_value = df[column_name].mode()[0]\n",
        "        def apply_custom_function(x):\n",
        "            result = custom_function(x)\n",
        "            if result is True:\n",
        "                return x\n",
        "            elif result == 'mode':\n",
        "                return mode_value\n",
        "            elif result == 'mean':\n",
        "                return random_sample\n",
        "            else:\n",
        "                return result\n",
        "\n",
        "        original_column = df[column_name].copy()\n",
        "        df[column_name] = df[column_name].apply(apply_custom_function)\n",
        "\n",
        "        num_rows_replaced = (original_column != df[column_name]).sum()\n",
        "        # print(f\"Replaced {num_rows_replaced} rows in column '{column_name}' based on the given custom function.\")\n",
        "replace_values_with_custom_functions(mh_data, lambdas)"
      ],
      "metadata": {
        "colab": {
          "base_uri": "https://localhost:8080/"
        },
        "id": "K9MdIbf5FqLU",
        "outputId": "a72731a0-14ef-430c-c811-d51e9f452ee0"
      },
      "execution_count": 10,
      "outputs": [
        {
          "output_type": "stream",
          "name": "stderr",
          "text": [
            "<ipython-input-10-2783a2bf70e0>:26: SettingWithCopyWarning: \n",
            "A value is trying to be set on a copy of a slice from a DataFrame.\n",
            "Try using .loc[row_indexer,col_indexer] = value instead\n",
            "\n",
            "See the caveats in the documentation: https://pandas.pydata.org/pandas-docs/stable/user_guide/indexing.html#returning-a-view-versus-a-copy\n",
            "  df[column_name] = df[column_name].apply(apply_custom_function)\n",
            "<ipython-input-10-2783a2bf70e0>:26: SettingWithCopyWarning: \n",
            "A value is trying to be set on a copy of a slice from a DataFrame.\n",
            "Try using .loc[row_indexer,col_indexer] = value instead\n",
            "\n",
            "See the caveats in the documentation: https://pandas.pydata.org/pandas-docs/stable/user_guide/indexing.html#returning-a-view-versus-a-copy\n",
            "  df[column_name] = df[column_name].apply(apply_custom_function)\n",
            "<ipython-input-10-2783a2bf70e0>:26: SettingWithCopyWarning: \n",
            "A value is trying to be set on a copy of a slice from a DataFrame.\n",
            "Try using .loc[row_indexer,col_indexer] = value instead\n",
            "\n",
            "See the caveats in the documentation: https://pandas.pydata.org/pandas-docs/stable/user_guide/indexing.html#returning-a-view-versus-a-copy\n",
            "  df[column_name] = df[column_name].apply(apply_custom_function)\n",
            "<ipython-input-10-2783a2bf70e0>:26: SettingWithCopyWarning: \n",
            "A value is trying to be set on a copy of a slice from a DataFrame.\n",
            "Try using .loc[row_indexer,col_indexer] = value instead\n",
            "\n",
            "See the caveats in the documentation: https://pandas.pydata.org/pandas-docs/stable/user_guide/indexing.html#returning-a-view-versus-a-copy\n",
            "  df[column_name] = df[column_name].apply(apply_custom_function)\n",
            "<ipython-input-10-2783a2bf70e0>:26: SettingWithCopyWarning: \n",
            "A value is trying to be set on a copy of a slice from a DataFrame.\n",
            "Try using .loc[row_indexer,col_indexer] = value instead\n",
            "\n",
            "See the caveats in the documentation: https://pandas.pydata.org/pandas-docs/stable/user_guide/indexing.html#returning-a-view-versus-a-copy\n",
            "  df[column_name] = df[column_name].apply(apply_custom_function)\n",
            "<ipython-input-10-2783a2bf70e0>:26: SettingWithCopyWarning: \n",
            "A value is trying to be set on a copy of a slice from a DataFrame.\n",
            "Try using .loc[row_indexer,col_indexer] = value instead\n",
            "\n",
            "See the caveats in the documentation: https://pandas.pydata.org/pandas-docs/stable/user_guide/indexing.html#returning-a-view-versus-a-copy\n",
            "  df[column_name] = df[column_name].apply(apply_custom_function)\n",
            "<ipython-input-10-2783a2bf70e0>:26: SettingWithCopyWarning: \n",
            "A value is trying to be set on a copy of a slice from a DataFrame.\n",
            "Try using .loc[row_indexer,col_indexer] = value instead\n",
            "\n",
            "See the caveats in the documentation: https://pandas.pydata.org/pandas-docs/stable/user_guide/indexing.html#returning-a-view-versus-a-copy\n",
            "  df[column_name] = df[column_name].apply(apply_custom_function)\n",
            "<ipython-input-10-2783a2bf70e0>:26: SettingWithCopyWarning: \n",
            "A value is trying to be set on a copy of a slice from a DataFrame.\n",
            "Try using .loc[row_indexer,col_indexer] = value instead\n",
            "\n",
            "See the caveats in the documentation: https://pandas.pydata.org/pandas-docs/stable/user_guide/indexing.html#returning-a-view-versus-a-copy\n",
            "  df[column_name] = df[column_name].apply(apply_custom_function)\n",
            "<ipython-input-10-2783a2bf70e0>:26: SettingWithCopyWarning: \n",
            "A value is trying to be set on a copy of a slice from a DataFrame.\n",
            "Try using .loc[row_indexer,col_indexer] = value instead\n",
            "\n",
            "See the caveats in the documentation: https://pandas.pydata.org/pandas-docs/stable/user_guide/indexing.html#returning-a-view-versus-a-copy\n",
            "  df[column_name] = df[column_name].apply(apply_custom_function)\n",
            "<ipython-input-10-2783a2bf70e0>:26: SettingWithCopyWarning: \n",
            "A value is trying to be set on a copy of a slice from a DataFrame.\n",
            "Try using .loc[row_indexer,col_indexer] = value instead\n",
            "\n",
            "See the caveats in the documentation: https://pandas.pydata.org/pandas-docs/stable/user_guide/indexing.html#returning-a-view-versus-a-copy\n",
            "  df[column_name] = df[column_name].apply(apply_custom_function)\n",
            "<ipython-input-10-2783a2bf70e0>:26: SettingWithCopyWarning: \n",
            "A value is trying to be set on a copy of a slice from a DataFrame.\n",
            "Try using .loc[row_indexer,col_indexer] = value instead\n",
            "\n",
            "See the caveats in the documentation: https://pandas.pydata.org/pandas-docs/stable/user_guide/indexing.html#returning-a-view-versus-a-copy\n",
            "  df[column_name] = df[column_name].apply(apply_custom_function)\n",
            "<ipython-input-10-2783a2bf70e0>:26: SettingWithCopyWarning: \n",
            "A value is trying to be set on a copy of a slice from a DataFrame.\n",
            "Try using .loc[row_indexer,col_indexer] = value instead\n",
            "\n",
            "See the caveats in the documentation: https://pandas.pydata.org/pandas-docs/stable/user_guide/indexing.html#returning-a-view-versus-a-copy\n",
            "  df[column_name] = df[column_name].apply(apply_custom_function)\n",
            "<ipython-input-10-2783a2bf70e0>:26: SettingWithCopyWarning: \n",
            "A value is trying to be set on a copy of a slice from a DataFrame.\n",
            "Try using .loc[row_indexer,col_indexer] = value instead\n",
            "\n",
            "See the caveats in the documentation: https://pandas.pydata.org/pandas-docs/stable/user_guide/indexing.html#returning-a-view-versus-a-copy\n",
            "  df[column_name] = df[column_name].apply(apply_custom_function)\n",
            "<ipython-input-10-2783a2bf70e0>:26: SettingWithCopyWarning: \n",
            "A value is trying to be set on a copy of a slice from a DataFrame.\n",
            "Try using .loc[row_indexer,col_indexer] = value instead\n",
            "\n",
            "See the caveats in the documentation: https://pandas.pydata.org/pandas-docs/stable/user_guide/indexing.html#returning-a-view-versus-a-copy\n",
            "  df[column_name] = df[column_name].apply(apply_custom_function)\n",
            "<ipython-input-10-2783a2bf70e0>:26: SettingWithCopyWarning: \n",
            "A value is trying to be set on a copy of a slice from a DataFrame.\n",
            "Try using .loc[row_indexer,col_indexer] = value instead\n",
            "\n",
            "See the caveats in the documentation: https://pandas.pydata.org/pandas-docs/stable/user_guide/indexing.html#returning-a-view-versus-a-copy\n",
            "  df[column_name] = df[column_name].apply(apply_custom_function)\n",
            "<ipython-input-10-2783a2bf70e0>:26: SettingWithCopyWarning: \n",
            "A value is trying to be set on a copy of a slice from a DataFrame.\n",
            "Try using .loc[row_indexer,col_indexer] = value instead\n",
            "\n",
            "See the caveats in the documentation: https://pandas.pydata.org/pandas-docs/stable/user_guide/indexing.html#returning-a-view-versus-a-copy\n",
            "  df[column_name] = df[column_name].apply(apply_custom_function)\n",
            "<ipython-input-10-2783a2bf70e0>:26: SettingWithCopyWarning: \n",
            "A value is trying to be set on a copy of a slice from a DataFrame.\n",
            "Try using .loc[row_indexer,col_indexer] = value instead\n",
            "\n",
            "See the caveats in the documentation: https://pandas.pydata.org/pandas-docs/stable/user_guide/indexing.html#returning-a-view-versus-a-copy\n",
            "  df[column_name] = df[column_name].apply(apply_custom_function)\n",
            "<ipython-input-10-2783a2bf70e0>:26: SettingWithCopyWarning: \n",
            "A value is trying to be set on a copy of a slice from a DataFrame.\n",
            "Try using .loc[row_indexer,col_indexer] = value instead\n",
            "\n",
            "See the caveats in the documentation: https://pandas.pydata.org/pandas-docs/stable/user_guide/indexing.html#returning-a-view-versus-a-copy\n",
            "  df[column_name] = df[column_name].apply(apply_custom_function)\n",
            "<ipython-input-10-2783a2bf70e0>:26: SettingWithCopyWarning: \n",
            "A value is trying to be set on a copy of a slice from a DataFrame.\n",
            "Try using .loc[row_indexer,col_indexer] = value instead\n",
            "\n",
            "See the caveats in the documentation: https://pandas.pydata.org/pandas-docs/stable/user_guide/indexing.html#returning-a-view-versus-a-copy\n",
            "  df[column_name] = df[column_name].apply(apply_custom_function)\n",
            "<ipython-input-10-2783a2bf70e0>:26: SettingWithCopyWarning: \n",
            "A value is trying to be set on a copy of a slice from a DataFrame.\n",
            "Try using .loc[row_indexer,col_indexer] = value instead\n",
            "\n",
            "See the caveats in the documentation: https://pandas.pydata.org/pandas-docs/stable/user_guide/indexing.html#returning-a-view-versus-a-copy\n",
            "  df[column_name] = df[column_name].apply(apply_custom_function)\n",
            "<ipython-input-10-2783a2bf70e0>:26: SettingWithCopyWarning: \n",
            "A value is trying to be set on a copy of a slice from a DataFrame.\n",
            "Try using .loc[row_indexer,col_indexer] = value instead\n",
            "\n",
            "See the caveats in the documentation: https://pandas.pydata.org/pandas-docs/stable/user_guide/indexing.html#returning-a-view-versus-a-copy\n",
            "  df[column_name] = df[column_name].apply(apply_custom_function)\n",
            "<ipython-input-10-2783a2bf70e0>:26: SettingWithCopyWarning: \n",
            "A value is trying to be set on a copy of a slice from a DataFrame.\n",
            "Try using .loc[row_indexer,col_indexer] = value instead\n",
            "\n",
            "See the caveats in the documentation: https://pandas.pydata.org/pandas-docs/stable/user_guide/indexing.html#returning-a-view-versus-a-copy\n",
            "  df[column_name] = df[column_name].apply(apply_custom_function)\n",
            "<ipython-input-10-2783a2bf70e0>:26: SettingWithCopyWarning: \n",
            "A value is trying to be set on a copy of a slice from a DataFrame.\n",
            "Try using .loc[row_indexer,col_indexer] = value instead\n",
            "\n",
            "See the caveats in the documentation: https://pandas.pydata.org/pandas-docs/stable/user_guide/indexing.html#returning-a-view-versus-a-copy\n",
            "  df[column_name] = df[column_name].apply(apply_custom_function)\n",
            "<ipython-input-10-2783a2bf70e0>:26: SettingWithCopyWarning: \n",
            "A value is trying to be set on a copy of a slice from a DataFrame.\n",
            "Try using .loc[row_indexer,col_indexer] = value instead\n",
            "\n",
            "See the caveats in the documentation: https://pandas.pydata.org/pandas-docs/stable/user_guide/indexing.html#returning-a-view-versus-a-copy\n",
            "  df[column_name] = df[column_name].apply(apply_custom_function)\n",
            "<ipython-input-10-2783a2bf70e0>:26: SettingWithCopyWarning: \n",
            "A value is trying to be set on a copy of a slice from a DataFrame.\n",
            "Try using .loc[row_indexer,col_indexer] = value instead\n",
            "\n",
            "See the caveats in the documentation: https://pandas.pydata.org/pandas-docs/stable/user_guide/indexing.html#returning-a-view-versus-a-copy\n",
            "  df[column_name] = df[column_name].apply(apply_custom_function)\n",
            "<ipython-input-10-2783a2bf70e0>:26: SettingWithCopyWarning: \n",
            "A value is trying to be set on a copy of a slice from a DataFrame.\n",
            "Try using .loc[row_indexer,col_indexer] = value instead\n",
            "\n",
            "See the caveats in the documentation: https://pandas.pydata.org/pandas-docs/stable/user_guide/indexing.html#returning-a-view-versus-a-copy\n",
            "  df[column_name] = df[column_name].apply(apply_custom_function)\n",
            "<ipython-input-10-2783a2bf70e0>:26: SettingWithCopyWarning: \n",
            "A value is trying to be set on a copy of a slice from a DataFrame.\n",
            "Try using .loc[row_indexer,col_indexer] = value instead\n",
            "\n",
            "See the caveats in the documentation: https://pandas.pydata.org/pandas-docs/stable/user_guide/indexing.html#returning-a-view-versus-a-copy\n",
            "  df[column_name] = df[column_name].apply(apply_custom_function)\n",
            "<ipython-input-10-2783a2bf70e0>:26: SettingWithCopyWarning: \n",
            "A value is trying to be set on a copy of a slice from a DataFrame.\n",
            "Try using .loc[row_indexer,col_indexer] = value instead\n",
            "\n",
            "See the caveats in the documentation: https://pandas.pydata.org/pandas-docs/stable/user_guide/indexing.html#returning-a-view-versus-a-copy\n",
            "  df[column_name] = df[column_name].apply(apply_custom_function)\n",
            "<ipython-input-10-2783a2bf70e0>:26: SettingWithCopyWarning: \n",
            "A value is trying to be set on a copy of a slice from a DataFrame.\n",
            "Try using .loc[row_indexer,col_indexer] = value instead\n",
            "\n",
            "See the caveats in the documentation: https://pandas.pydata.org/pandas-docs/stable/user_guide/indexing.html#returning-a-view-versus-a-copy\n",
            "  df[column_name] = df[column_name].apply(apply_custom_function)\n",
            "<ipython-input-10-2783a2bf70e0>:26: SettingWithCopyWarning: \n",
            "A value is trying to be set on a copy of a slice from a DataFrame.\n",
            "Try using .loc[row_indexer,col_indexer] = value instead\n",
            "\n",
            "See the caveats in the documentation: https://pandas.pydata.org/pandas-docs/stable/user_guide/indexing.html#returning-a-view-versus-a-copy\n",
            "  df[column_name] = df[column_name].apply(apply_custom_function)\n",
            "<ipython-input-10-2783a2bf70e0>:26: SettingWithCopyWarning: \n",
            "A value is trying to be set on a copy of a slice from a DataFrame.\n",
            "Try using .loc[row_indexer,col_indexer] = value instead\n",
            "\n",
            "See the caveats in the documentation: https://pandas.pydata.org/pandas-docs/stable/user_guide/indexing.html#returning-a-view-versus-a-copy\n",
            "  df[column_name] = df[column_name].apply(apply_custom_function)\n",
            "<ipython-input-10-2783a2bf70e0>:26: SettingWithCopyWarning: \n",
            "A value is trying to be set on a copy of a slice from a DataFrame.\n",
            "Try using .loc[row_indexer,col_indexer] = value instead\n",
            "\n",
            "See the caveats in the documentation: https://pandas.pydata.org/pandas-docs/stable/user_guide/indexing.html#returning-a-view-versus-a-copy\n",
            "  df[column_name] = df[column_name].apply(apply_custom_function)\n",
            "<ipython-input-10-2783a2bf70e0>:26: SettingWithCopyWarning: \n",
            "A value is trying to be set on a copy of a slice from a DataFrame.\n",
            "Try using .loc[row_indexer,col_indexer] = value instead\n",
            "\n",
            "See the caveats in the documentation: https://pandas.pydata.org/pandas-docs/stable/user_guide/indexing.html#returning-a-view-versus-a-copy\n",
            "  df[column_name] = df[column_name].apply(apply_custom_function)\n",
            "<ipython-input-10-2783a2bf70e0>:26: SettingWithCopyWarning: \n",
            "A value is trying to be set on a copy of a slice from a DataFrame.\n",
            "Try using .loc[row_indexer,col_indexer] = value instead\n",
            "\n",
            "See the caveats in the documentation: https://pandas.pydata.org/pandas-docs/stable/user_guide/indexing.html#returning-a-view-versus-a-copy\n",
            "  df[column_name] = df[column_name].apply(apply_custom_function)\n",
            "<ipython-input-10-2783a2bf70e0>:26: SettingWithCopyWarning: \n",
            "A value is trying to be set on a copy of a slice from a DataFrame.\n",
            "Try using .loc[row_indexer,col_indexer] = value instead\n",
            "\n",
            "See the caveats in the documentation: https://pandas.pydata.org/pandas-docs/stable/user_guide/indexing.html#returning-a-view-versus-a-copy\n",
            "  df[column_name] = df[column_name].apply(apply_custom_function)\n",
            "<ipython-input-10-2783a2bf70e0>:26: SettingWithCopyWarning: \n",
            "A value is trying to be set on a copy of a slice from a DataFrame.\n",
            "Try using .loc[row_indexer,col_indexer] = value instead\n",
            "\n",
            "See the caveats in the documentation: https://pandas.pydata.org/pandas-docs/stable/user_guide/indexing.html#returning-a-view-versus-a-copy\n",
            "  df[column_name] = df[column_name].apply(apply_custom_function)\n",
            "<ipython-input-10-2783a2bf70e0>:26: SettingWithCopyWarning: \n",
            "A value is trying to be set on a copy of a slice from a DataFrame.\n",
            "Try using .loc[row_indexer,col_indexer] = value instead\n",
            "\n",
            "See the caveats in the documentation: https://pandas.pydata.org/pandas-docs/stable/user_guide/indexing.html#returning-a-view-versus-a-copy\n",
            "  df[column_name] = df[column_name].apply(apply_custom_function)\n",
            "<ipython-input-10-2783a2bf70e0>:26: SettingWithCopyWarning: \n",
            "A value is trying to be set on a copy of a slice from a DataFrame.\n",
            "Try using .loc[row_indexer,col_indexer] = value instead\n",
            "\n",
            "See the caveats in the documentation: https://pandas.pydata.org/pandas-docs/stable/user_guide/indexing.html#returning-a-view-versus-a-copy\n",
            "  df[column_name] = df[column_name].apply(apply_custom_function)\n",
            "<ipython-input-10-2783a2bf70e0>:26: SettingWithCopyWarning: \n",
            "A value is trying to be set on a copy of a slice from a DataFrame.\n",
            "Try using .loc[row_indexer,col_indexer] = value instead\n",
            "\n",
            "See the caveats in the documentation: https://pandas.pydata.org/pandas-docs/stable/user_guide/indexing.html#returning-a-view-versus-a-copy\n",
            "  df[column_name] = df[column_name].apply(apply_custom_function)\n",
            "<ipython-input-10-2783a2bf70e0>:26: SettingWithCopyWarning: \n",
            "A value is trying to be set on a copy of a slice from a DataFrame.\n",
            "Try using .loc[row_indexer,col_indexer] = value instead\n",
            "\n",
            "See the caveats in the documentation: https://pandas.pydata.org/pandas-docs/stable/user_guide/indexing.html#returning-a-view-versus-a-copy\n",
            "  df[column_name] = df[column_name].apply(apply_custom_function)\n",
            "<ipython-input-10-2783a2bf70e0>:26: SettingWithCopyWarning: \n",
            "A value is trying to be set on a copy of a slice from a DataFrame.\n",
            "Try using .loc[row_indexer,col_indexer] = value instead\n",
            "\n",
            "See the caveats in the documentation: https://pandas.pydata.org/pandas-docs/stable/user_guide/indexing.html#returning-a-view-versus-a-copy\n",
            "  df[column_name] = df[column_name].apply(apply_custom_function)\n",
            "<ipython-input-10-2783a2bf70e0>:26: SettingWithCopyWarning: \n",
            "A value is trying to be set on a copy of a slice from a DataFrame.\n",
            "Try using .loc[row_indexer,col_indexer] = value instead\n",
            "\n",
            "See the caveats in the documentation: https://pandas.pydata.org/pandas-docs/stable/user_guide/indexing.html#returning-a-view-versus-a-copy\n",
            "  df[column_name] = df[column_name].apply(apply_custom_function)\n",
            "<ipython-input-10-2783a2bf70e0>:26: SettingWithCopyWarning: \n",
            "A value is trying to be set on a copy of a slice from a DataFrame.\n",
            "Try using .loc[row_indexer,col_indexer] = value instead\n",
            "\n",
            "See the caveats in the documentation: https://pandas.pydata.org/pandas-docs/stable/user_guide/indexing.html#returning-a-view-versus-a-copy\n",
            "  df[column_name] = df[column_name].apply(apply_custom_function)\n"
          ]
        }
      ]
    },
    {
      "cell_type": "code",
      "source": [
        "missing_columns = ha_data.columns[ha_data.isnull().any()]\n",
        "missing_data = ha_data[missing_columns].isnull().sum()\n",
        "\n",
        "print(\"Columns with Missing Values:\")\n",
        "print(missing_data)"
      ],
      "metadata": {
        "id": "e72WM_6QqQ0t",
        "outputId": "cd663934-04b0-4715-ef18-9b523301f941",
        "colab": {
          "base_uri": "https://localhost:8080/"
        }
      },
      "execution_count": 11,
      "outputs": [
        {
          "output_type": "stream",
          "name": "stdout",
          "text": [
            "Columns with Missing Values:\n",
            "DIBTYPE_A       24705\n",
            "EMPWRKFT1_A     12297\n",
            "EMPHEALINS_A    10923\n",
            "RXSK12M_A        7992\n",
            "RXLS12M_A        7992\n",
            "RXDL12M_A        7992\n",
            "HISTOPMISS_A    26688\n",
            "HISTOPAGE_A     26688\n",
            "HISTOPCOST_A    26688\n",
            "HISTOPELIG_A    26688\n",
            "RSNHICOST_A     25595\n",
            "RSNHIWANT_A     25595\n",
            "RSNHIELIG_A     25595\n",
            "RSNHICONF_A     25595\n",
            "RSNHIMEET_A     25595\n",
            "RSNHIWAIT_A     25595\n",
            "RSNHIOTH_A      25595\n",
            "dtype: int64\n"
          ]
        }
      ]
    },
    {
      "cell_type": "code",
      "source": [
        "temp = \"HISTOPMISS_A, HISTOPAGE_A, HISTOPCOST_A, HISTOPELIG_A, RSNHICOST_A, RSNHIWANT_A, RSNHIELIG_A, RSNHICONF_A, RSNHIMEET_A, RSNHIWAIT_A, RSNHIOTH_A\"\n",
        "reason_list = [attr.strip() for attr in temp.split(\",\")]\n",
        "reason_data=ha_data[reason_list]\n",
        "ha_data[\"NO_HC_REASON\"] = reason_data.apply(lambda row: row.index[row == 1][0] if 1 in row.values else None, axis=1)\n",
        "print(ha_data[\"NO_HC_REASON\"].unique())\n",
        "ha_data['NO_HC_REASON'].fillna(\"INSURED\", inplace=True,downcast='infer')\n",
        "print(ha_data[\"NO_HC_REASON\"].isna().sum())\n",
        "ha_data=ha_data.drop(columns=reason_list)"
      ],
      "metadata": {
        "id": "GZrIN9QC28Dg",
        "colab": {
          "base_uri": "https://localhost:8080/"
        },
        "outputId": "6547f0d7-1fe7-4e4b-a60e-273f8d964832"
      },
      "execution_count": 12,
      "outputs": [
        {
          "output_type": "stream",
          "name": "stdout",
          "text": [
            "[None 'RSNHIWANT_A' 'HISTOPMISS_A' 'RSNHICOST_A' 'HISTOPAGE_A'\n",
            " 'RSNHICONF_A' 'RSNHIWAIT_A' 'HISTOPELIG_A' 'HISTOPCOST_A' 'RSNHIOTH_A'\n",
            " 'RSNHIELIG_A' 'RSNHIMEET_A']\n",
            "0\n"
          ]
        },
        {
          "output_type": "stream",
          "name": "stderr",
          "text": [
            "<ipython-input-12-2e84fe398f19>:4: SettingWithCopyWarning: \n",
            "A value is trying to be set on a copy of a slice from a DataFrame.\n",
            "Try using .loc[row_indexer,col_indexer] = value instead\n",
            "\n",
            "See the caveats in the documentation: https://pandas.pydata.org/pandas-docs/stable/user_guide/indexing.html#returning-a-view-versus-a-copy\n",
            "  ha_data[\"NO_HC_REASON\"] = reason_data.apply(lambda row: row.index[row == 1][0] if 1 in row.values else None, axis=1)\n",
            "<ipython-input-12-2e84fe398f19>:6: SettingWithCopyWarning: \n",
            "A value is trying to be set on a copy of a slice from a DataFrame\n",
            "\n",
            "See the caveats in the documentation: https://pandas.pydata.org/pandas-docs/stable/user_guide/indexing.html#returning-a-view-versus-a-copy\n",
            "  ha_data['NO_HC_REASON'].fillna(\"INSURED\", inplace=True,downcast='infer')\n"
          ]
        }
      ]
    },
    {
      "cell_type": "code",
      "source": [
        "print(np.isnan(ha_data[ha_data['DIBEV_A'] == 1]['DIBTYPE_A'].to_numpy()).sum(), ha_data[ha_data['DIBEV_A'] == 1]['DIBTYPE_A'].size)\n",
        "ha_data['DIBTYPE_A'].fillna(-1, inplace=True,downcast='infer')\n",
        "print(ha_data['DIBTYPE_A'].isnull().sum(), end=\" \")\n",
        "ha_data['EMPWRKFT1_A'].fillna(-1, inplace=True,downcast='infer')\n",
        "print(ha_data['EMPWRKFT1_A'].isnull().sum(), end=\" \")\n",
        "ha_data['EMPHEALINS_A'].fillna(-1, inplace=True,downcast='infer')\n",
        "print(ha_data['EMPHEALINS_A'].isnull().sum(), end=\" \")\n",
        "ha_data['RXSK12M_A'].fillna(-1, inplace=True,downcast='infer')\n",
        "print(ha_data['RXSK12M_A'].isnull().sum(), end=\" \")\n",
        "ha_data['RXLS12M_A'].fillna(-1, inplace=True,downcast='infer')\n",
        "print(ha_data['RXLS12M_A'].isnull().sum(), end=\" \")\n",
        "ha_data['RXDL12M_A'].fillna(-1, inplace=True,downcast='infer')\n",
        "print(ha_data['RXDL12M_A'].isnull().sum(), end=\" \")"
      ],
      "metadata": {
        "colab": {
          "base_uri": "https://localhost:8080/"
        },
        "id": "mHKdY3QBMJMi",
        "outputId": "688247ec-9f2b-4d54-c27d-5218ff1e5fcb"
      },
      "execution_count": 13,
      "outputs": [
        {
          "output_type": "stream",
          "name": "stdout",
          "text": [
            "0 2946\n",
            "0 0 0 0 0 0 "
          ]
        }
      ]
    },
    {
      "cell_type": "code",
      "source": [
        "lambdas = [\n",
        "    lambda x: True, lambda x: True, lambda x: 'mode' if x not in [1,2] else True, lambda x: 'mean' if x in [97,98,99] else True, lambda x: True, lambda x: 'mode' if x in [97,98,99] else True,\n",
        "    lambda x: 'mode' if x not in [1,2,3,4,5] else True, lambda x: 'mode' if x not in [1,2] else True, lambda x: 'mode' if x not in [1,2] else True, lambda x: 'mode' if x not in [1,2] else True,\n",
        "    lambda x: 'mode' if x not in [1,2] else True, lambda x: 'mode' if x not in [1,2] else True, lambda x: 'mode' if x not in [1,2] else True, lambda x: 'mode' if x not in [-1,1,2,3] else True,\n",
        "    lambda x: 'mode' if x not in [1,2] else True, lambda x: 'mode' if x not in [1,2] else True, lambda x: 'mode' if x not in [1,2] else True, lambda x: 'mode' if x not in [1,2] else True,\n",
        "    lambda x: 'mode' if x not in [1,2] else True, lambda x: 'mode' if x not in [1,2] else True, lambda x: 'mode' if x not in [1,2] else True, lambda x: 'mode' if x not in [1,2,3,4] else True,\n",
        "    lambda x: 'mode' if x not in [1,2,3,4] else True, lambda x: 'mode' if x not in [1,2,3,4] else True, lambda x: 'mode' if x not in [1,2,3,4] else True,\n",
        "    lambda x: 'mode' if x not in [1,2,3,4] else True, lambda x: 'mode' if x not in [1,2] else True, lambda x: 'mode' if x not in [1,2] else True, lambda x: 'mode' if x not in [1,2] else True,\n",
        "    lambda x: 'mode' if x not in [1,2] else True, lambda x: 'mode' if x not in [1,2,3,4] else True, lambda x: 'mode' if x not in [1,2,3] else True, lambda x: 'mode' if x not in [1,2] else True,\n",
        "    lambda x: 'mode' if x in [10] else True, lambda x: 'mode' if x not in [1,2,3,4] else True, lambda x: 'mode' if x in [9] else True, lambda x: 'mode' if x not in [1,2,3] else True,\n",
        "    lambda x: 'mode' if x not in [-1,1,2] else True, lambda x: 'mode' if x not in [-1,1,2] else True, lambda x: 'mode' if x in [98] else True, lambda x: 'mode' if x not in [1,2] else True,\n",
        "    lambda x: 'mode' if x not in [1,2] else True, lambda x: 'mode' if x not in [1,2] else True, lambda x: 'mode' if x in [7,8,9] else True, lambda x: 'mode' if x not in [1,2,3] else True,\n",
        "    lambda x: 'mode' if x in [7,8,9] else True, lambda x: 'mode' if x in [7,8,9] else True, lambda x: 'mode' if x not in [1,2] else True, lambda x: 'mode' if x not in [1,2] else True,\n",
        "    lambda x: 'mode' if x not in [1,2] else True, lambda x: 'mode' if x not in [1,2] else True, lambda x: 'mode' if x not in [1,2] else True, lambda x: 'mode' if x not in [1,2] else True,\n",
        "    lambda x: 'mode' if x not in [1,2] else True, lambda x: 'mode' if x not in [-1,1,2] else True, lambda x: 'mode' if x not in [-1,1,2] else True, lambda x: 'mode' if x not in [-1,1,2] else True,\n",
        "    lambda x: 'mode' if x not in [1,2] else True, lambda x: 'mode' if x not in [1,2] else True, lambda x: 'mode' if x not in [1,2,3] else True, lambda x: True\n",
        "]"
      ],
      "metadata": {
        "id": "7KfDTpe0MO4C"
      },
      "execution_count": 14,
      "outputs": []
    },
    {
      "cell_type": "code",
      "source": [
        "def replace_values_with_custom_functions(df, custom_functions_list):\n",
        "    for idx, column_name in enumerate(df.columns):\n",
        "        # print(len(df.columns), len(custom_functions_list), idx)\n",
        "        custom_function = custom_functions_list[idx]\n",
        "        if column_name == \"AGEP_A\":\n",
        "            mean_value = df[(df[column_name] >= 18) & (df[column_name] <= 85)][column_name].mean()\n",
        "            std_dev = df[(df[column_name] >= 18) & (df[column_name] <= 85)][column_name].to_numpy().std()\n",
        "            random_sample = np.random.default_rng().normal(loc=mean_value, scale=std_dev, size=1)\n",
        "        mode_value = df[column_name].mode()[0]\n",
        "        def apply_custom_function(x):\n",
        "            result = custom_function(x)\n",
        "            if result is True:\n",
        "                return x\n",
        "            elif result == 'mode':\n",
        "                return mode_value\n",
        "            elif result == 'mean':\n",
        "                return random_sample\n",
        "            else:\n",
        "                return result\n",
        "\n",
        "        original_column = df[column_name].copy()\n",
        "        df[column_name] = df[column_name].apply(apply_custom_function)\n",
        "\n",
        "        num_rows_replaced = (original_column != df[column_name]).sum()\n",
        "        # print(f\"Replaced {num_rows_replaced} rows in column '{column_name}' based on the given custom function.\")\n",
        "replace_values_with_custom_functions(ha_data, lambdas)"
      ],
      "metadata": {
        "id": "VqmVKIZEOaqj"
      },
      "execution_count": 15,
      "outputs": []
    },
    {
      "cell_type": "code",
      "source": [
        "# Creating the target variable for both the tasks\n",
        "mh_data['Y'] = (mh_data['ANXEV_A'] == 1) | (mh_data['DEPEV_A'] == 1)\n",
        "for i in range(len(mh_data['Y'])):\n",
        "  if mh_data['Y'][i]:\n",
        "    mh_data['Y'][i] = 1\n",
        "  else:\n",
        "    mh_data['Y'][i] = 0\n",
        "print(mh_data['Y'].unique())\n",
        "mh_data.drop(['ANXEV_A', 'DEPEV_A'], axis=1, inplace=True)"
      ],
      "metadata": {
        "colab": {
          "base_uri": "https://localhost:8080/"
        },
        "id": "pD1qS1D7394L",
        "outputId": "199b938b-8dd1-478b-fac3-4535580a855f"
      },
      "execution_count": 16,
      "outputs": [
        {
          "output_type": "stream",
          "name": "stderr",
          "text": [
            "<ipython-input-16-de3aebcd57f7>:2: SettingWithCopyWarning: \n",
            "A value is trying to be set on a copy of a slice from a DataFrame.\n",
            "Try using .loc[row_indexer,col_indexer] = value instead\n",
            "\n",
            "See the caveats in the documentation: https://pandas.pydata.org/pandas-docs/stable/user_guide/indexing.html#returning-a-view-versus-a-copy\n",
            "  mh_data['Y'] = (mh_data['ANXEV_A'] == 1) | (mh_data['DEPEV_A'] == 1)\n",
            "<ipython-input-16-de3aebcd57f7>:7: SettingWithCopyWarning: \n",
            "A value is trying to be set on a copy of a slice from a DataFrame\n",
            "\n",
            "See the caveats in the documentation: https://pandas.pydata.org/pandas-docs/stable/user_guide/indexing.html#returning-a-view-versus-a-copy\n",
            "  mh_data['Y'][i] = 0\n",
            "<ipython-input-16-de3aebcd57f7>:5: SettingWithCopyWarning: \n",
            "A value is trying to be set on a copy of a slice from a DataFrame\n",
            "\n",
            "See the caveats in the documentation: https://pandas.pydata.org/pandas-docs/stable/user_guide/indexing.html#returning-a-view-versus-a-copy\n",
            "  mh_data['Y'][i] = 1\n"
          ]
        },
        {
          "output_type": "stream",
          "name": "stdout",
          "text": [
            "[0 1]\n"
          ]
        },
        {
          "output_type": "stream",
          "name": "stderr",
          "text": [
            "<ipython-input-16-de3aebcd57f7>:9: SettingWithCopyWarning: \n",
            "A value is trying to be set on a copy of a slice from a DataFrame\n",
            "\n",
            "See the caveats in the documentation: https://pandas.pydata.org/pandas-docs/stable/user_guide/indexing.html#returning-a-view-versus-a-copy\n",
            "  mh_data.drop(['ANXEV_A', 'DEPEV_A'], axis=1, inplace=True)\n"
          ]
        }
      ]
    },
    {
      "cell_type": "code",
      "source": [
        "ha_data['Y'] = (ha_data['ABINSUR_A'] == 1) | (ha_data['ABAVAIL_A'] == 1) | (ha_data['ABOPEN_A'] == 1) | (ha_data['ABTOOLONG_A'] == 1) | (ha_data['ABTIME_A'] == 1)\n",
        "for i in range(len(ha_data['Y'])):\n",
        "  if ha_data['Y'][i]:\n",
        "    ha_data['Y'][i] = 1\n",
        "  else:\n",
        "    ha_data['Y'][i] = 0\n",
        "print(ha_data['Y'].unique())\n",
        "ha_data.drop(['ABINSUR_A', 'ABAVAIL_A', 'ABOPEN_A', 'ABTOOLONG_A', 'ABTIME_A'], axis=1, inplace=True)"
      ],
      "metadata": {
        "colab": {
          "base_uri": "https://localhost:8080/"
        },
        "id": "5ys4lUq57AK_",
        "outputId": "e9bc1e88-b1d8-4860-b158-6b28e2af04f2"
      },
      "execution_count": 17,
      "outputs": [
        {
          "output_type": "stream",
          "name": "stderr",
          "text": [
            "<ipython-input-17-8df3fe48c50f>:6: SettingWithCopyWarning: \n",
            "A value is trying to be set on a copy of a slice from a DataFrame\n",
            "\n",
            "See the caveats in the documentation: https://pandas.pydata.org/pandas-docs/stable/user_guide/indexing.html#returning-a-view-versus-a-copy\n",
            "  ha_data['Y'][i] = 0\n"
          ]
        },
        {
          "output_type": "stream",
          "name": "stdout",
          "text": [
            "[0 1]\n"
          ]
        }
      ]
    },
    {
      "cell_type": "code",
      "source": [
        "mh_data.to_csv(\"mh_data.csv\")\n",
        "ha_data.to_csv(\"ha_data.csv\")"
      ],
      "metadata": {
        "id": "kELiblvEz1wr"
      },
      "execution_count": 18,
      "outputs": []
    },
    {
      "cell_type": "code",
      "source": [
        "mh_remove=\"MHTHRPY_A, MHTHND_A, MHTHDLY_A\"\n",
        "mh_remove_list = [attr.strip() for attr in mh_remove.split(\",\")]\n",
        "mh_data=mh_data.drop(columns=mh_remove_list)"
      ],
      "metadata": {
        "id": "665aXumA0NIp"
      },
      "execution_count": 19,
      "outputs": []
    },
    {
      "cell_type": "code",
      "source": [
        "Categorical='URBRRL, REGION, HISPALLP_A, EDUCP_A, PHSTAT_A, DIBTYPE_A, BMICAT_A, VISIONDF_A, HEARINGDF_A, DIFF_A, COMDIFF_A, SMKCIGST_A, SMKECIGST_A, DRKSTAT_A, ORIENT_A, MARSTAT_A, PARSTAT_A, EMPWRKFT1_A'\n",
        "cat_list=[attr.strip() for attr in Categorical.split(\",\")]\n",
        "mh_data = pd.get_dummies(mh_data,columns=cat_list)\n",
        "mh_data.info()"
      ],
      "metadata": {
        "colab": {
          "base_uri": "https://localhost:8080/"
        },
        "id": "46fcs8jHCxqr",
        "outputId": "6290c734-1353-4909-97ab-235fc393e394"
      },
      "execution_count": 20,
      "outputs": [
        {
          "output_type": "stream",
          "name": "stdout",
          "text": [
            "<class 'pandas.core.frame.DataFrame'>\n",
            "RangeIndex: 27651 entries, 0 to 27650\n",
            "Columns: 109 entries, SEX_A to EMPWRKFT1_A_2\n",
            "dtypes: int64(18), object(3), uint8(88)\n",
            "memory usage: 6.8+ MB\n"
          ]
        }
      ]
    },
    {
      "cell_type": "code",
      "source": [
        "import seaborn as sns\n",
        "import matplotlib.pyplot as plt\n",
        "from sklearn.ensemble import RandomForestClassifier\n",
        "from sklearn.model_selection import train_test_split\n",
        "from sklearn.metrics import accuracy_score\n",
        "from sklearn.metrics import confusion_matrix\n",
        "from sklearn.metrics import f1_score, precision_score, recall_score\n",
        "from sklearn.preprocessing import MinMaxScaler, StandardScaler\n",
        "from sklearn.impute import KNNImputer\n",
        "from sklearn.feature_selection import SelectPercentile,chi2\n",
        "from sklearn.feature_selection import SelectKBest\n",
        "from sklearn.feature_selection import mutual_info_classif\n",
        "from sklearn.model_selection import KFold\n",
        "from sklearn.linear_model import LogisticRegression\n",
        "%matplotlib inline\n",
        "from sklearn.metrics import accuracy_score, classification_report, confusion_matrix\n",
        "from sklearn.svm import SVC"
      ],
      "metadata": {
        "id": "NDcllTOD5bFM"
      },
      "execution_count": 21,
      "outputs": []
    },
    {
      "cell_type": "code",
      "source": [
        "X = mh_data.drop('Y', axis=1)\n",
        "y = mh_data['Y'].astype('int')"
      ],
      "metadata": {
        "id": "Tp7w4bKiB48w"
      },
      "execution_count": 22,
      "outputs": []
    },
    {
      "cell_type": "code",
      "source": [
        "min_max_scaler = MinMaxScaler()\n",
        "X_normalized = min_max_scaler.fit_transform(X)\n",
        "standard_scaler = StandardScaler()\n",
        "X_standardized = standard_scaler.fit_transform(X_normalized)"
      ],
      "metadata": {
        "id": "qS2zIMDNCKxF"
      },
      "execution_count": 23,
      "outputs": []
    },
    {
      "cell_type": "code",
      "source": [
        "X_train, X_test, y_train, y_test = train_test_split(X_standardized, y, test_size=0.3, random_state=42)"
      ],
      "metadata": {
        "id": "f5NT6Sb3F1FR"
      },
      "execution_count": 24,
      "outputs": []
    },
    {
      "cell_type": "code",
      "source": [
        "model = LogisticRegression(random_state=42)\n",
        "model.fit(X_train, y_train)\n",
        "y_pred = model.predict(X_test)\n",
        "accuracy = accuracy_score(y_test, y_pred)\n",
        "conf_matrix = confusion_matrix(y_test, y_pred)\n",
        "classification_rep = classification_report(y_test, y_pred)\n",
        "\n",
        "print(f\"Accuracy: {accuracy:.2f}\")\n",
        "print(\"Confusion Matrix:\")\n",
        "print(conf_matrix)\n",
        "print(\"Classification Report:\")\n",
        "print(classification_rep)"
      ],
      "metadata": {
        "colab": {
          "base_uri": "https://localhost:8080/"
        },
        "id": "c2CQCuyJF5NF",
        "outputId": "9c14c931-910e-49d2-9733-a010e7d45b65"
      },
      "execution_count": 25,
      "outputs": [
        {
          "output_type": "stream",
          "name": "stdout",
          "text": [
            "Accuracy: 0.80\n",
            "Confusion Matrix:\n",
            "[[5949  292]\n",
            " [1383  672]]\n",
            "Classification Report:\n",
            "              precision    recall  f1-score   support\n",
            "\n",
            "           0       0.81      0.95      0.88      6241\n",
            "           1       0.70      0.33      0.45      2055\n",
            "\n",
            "    accuracy                           0.80      8296\n",
            "   macro avg       0.75      0.64      0.66      8296\n",
            "weighted avg       0.78      0.80      0.77      8296\n",
            "\n"
          ]
        }
      ]
    },
    {
      "cell_type": "code",
      "source": [
        "model = SVC(kernel='linear', C=1, random_state=42)\n",
        "model.fit(X_train, y_train)\n",
        "y_pred = model.predict(X_test)\n",
        "accuracy = accuracy_score(y_test, y_pred)\n",
        "conf_matrix = confusion_matrix(y_test, y_pred)\n",
        "classification_rep = classification_report(y_test, y_pred)\n",
        "\n",
        "print(f\"Accuracy: {accuracy:.2f}\")\n",
        "print(\"Confusion Matrix:\")\n",
        "print(conf_matrix)\n",
        "print(\"Classification Report:\")\n",
        "print(classification_rep)"
      ],
      "metadata": {
        "colab": {
          "base_uri": "https://localhost:8080/"
        },
        "id": "WoqQeQOHGOhp",
        "outputId": "6e51c60d-ab7c-4a2c-88c0-e7599aef6350"
      },
      "execution_count": 26,
      "outputs": [
        {
          "output_type": "stream",
          "name": "stdout",
          "text": [
            "Accuracy: 0.78\n",
            "Confusion Matrix:\n",
            "[[6096  145]\n",
            " [1714  341]]\n",
            "Classification Report:\n",
            "              precision    recall  f1-score   support\n",
            "\n",
            "           0       0.78      0.98      0.87      6241\n",
            "           1       0.70      0.17      0.27      2055\n",
            "\n",
            "    accuracy                           0.78      8296\n",
            "   macro avg       0.74      0.57      0.57      8296\n",
            "weighted avg       0.76      0.78      0.72      8296\n",
            "\n"
          ]
        }
      ]
    },
    {
      "cell_type": "code",
      "source": [
        "model = RandomForestClassifier(n_estimators=100, random_state=42)\n",
        "model.fit(X_train, y_train)\n",
        "y_pred = model.predict(X_test)\n",
        "accuracy = accuracy_score(y_test, y_pred)\n",
        "conf_matrix = confusion_matrix(y_test, y_pred)\n",
        "classification_rep = classification_report(y_test, y_pred)\n",
        "\n",
        "print(f\"Accuracy: {accuracy:.2f}\")\n",
        "print(\"Confusion Matrix:\")\n",
        "print(conf_matrix)\n",
        "print(\"Classification Report:\")\n",
        "print(classification_rep)"
      ],
      "metadata": {
        "colab": {
          "base_uri": "https://localhost:8080/"
        },
        "id": "0MDCFcR9HIi1",
        "outputId": "d3f6298b-be43-4410-d5aa-9d9b4ed2e473"
      },
      "execution_count": 27,
      "outputs": [
        {
          "output_type": "stream",
          "name": "stdout",
          "text": [
            "Accuracy: 0.79\n",
            "Confusion Matrix:\n",
            "[[6028  213]\n",
            " [1560  495]]\n",
            "Classification Report:\n",
            "              precision    recall  f1-score   support\n",
            "\n",
            "           0       0.79      0.97      0.87      6241\n",
            "           1       0.70      0.24      0.36      2055\n",
            "\n",
            "    accuracy                           0.79      8296\n",
            "   macro avg       0.75      0.60      0.62      8296\n",
            "weighted avg       0.77      0.79      0.74      8296\n",
            "\n"
          ]
        }
      ]
    },
    {
      "cell_type": "code",
      "source": [
        "Categorical_ha='URBRRL, REGION, HISPALLP_A, EDUCP_A, PHSTAT_A, DIBTYPE_A, BMICAT_A, VISIONDF_A, HEARINGDF_A, DIFF_A, COMDIFF_A, SMKCIGST_A, SMKECIGST_A, DRKSTAT_A,  ORIENT_A, MARSTAT_A, PARSTAT_A, EMPWRKFT1_A, EMPHEALINS_A, RATCAT_A, LASTDR_A, USUALPL_A, URGNT12MTC_A, EMERG12MTC_A, RXSK12M_A, RXLS12M_A, RXDL12M_A, PAYWORRY_A, NO_HC_REASON'\n",
        "cat_list_ha=[attr.strip() for attr in Categorical_ha.split(\",\")]\n",
        "ha_data = pd.get_dummies(ha_data,columns=cat_list_ha)\n",
        "ha_data.info()"
      ],
      "metadata": {
        "colab": {
          "base_uri": "https://localhost:8080/"
        },
        "id": "E0MHxMBZHazX",
        "outputId": "92909301-72d0-4515-d299-562b9956be25"
      },
      "execution_count": 28,
      "outputs": [
        {
          "output_type": "stream",
          "name": "stdout",
          "text": [
            "<class 'pandas.core.frame.DataFrame'>\n",
            "RangeIndex: 27651 entries, 0 to 27650\n",
            "Columns: 178 entries, SEX_A to NO_HC_REASON_RSNHIWANT_A\n",
            "dtypes: int64(26), object(2), uint8(150)\n",
            "memory usage: 9.9+ MB\n"
          ]
        }
      ]
    },
    {
      "cell_type": "code",
      "source": [
        "X = ha_data.drop('Y', axis=1)\n",
        "y = ha_data['Y'].astype('int')"
      ],
      "metadata": {
        "id": "2xQZ2ZozLbIj"
      },
      "execution_count": 29,
      "outputs": []
    },
    {
      "cell_type": "code",
      "source": [
        "min_max_scaler = MinMaxScaler()\n",
        "X_normalized = min_max_scaler.fit_transform(X)\n",
        "standard_scaler = StandardScaler()\n",
        "X_standardized = standard_scaler.fit_transform(X_normalized)"
      ],
      "metadata": {
        "id": "KRbXlRWULxAI"
      },
      "execution_count": 30,
      "outputs": []
    },
    {
      "cell_type": "code",
      "source": [
        "X_train, X_test, y_train, y_test = train_test_split(X_standardized, y, test_size=0.3, random_state=42)"
      ],
      "metadata": {
        "id": "koc1IdQ5L1L4"
      },
      "execution_count": 31,
      "outputs": []
    },
    {
      "cell_type": "code",
      "source": [
        "model = LogisticRegression(random_state=42)\n",
        "model.fit(X_train, y_train)\n",
        "y_pred = model.predict(X_test)\n",
        "accuracy = accuracy_score(y_test, y_pred)\n",
        "conf_matrix = confusion_matrix(y_test, y_pred)\n",
        "classification_rep = classification_report(y_test, y_pred)\n",
        "\n",
        "print(f\"Accuracy: {accuracy:.2f}\")\n",
        "print(\"Confusion Matrix:\")\n",
        "print(conf_matrix)\n",
        "print(\"Classification Report:\")\n",
        "print(classification_rep)"
      ],
      "metadata": {
        "colab": {
          "base_uri": "https://localhost:8080/"
        },
        "id": "0MtounfdL3YR",
        "outputId": "853f6272-12b9-40d5-fdf2-7ec9523f9046"
      },
      "execution_count": 32,
      "outputs": [
        {
          "output_type": "stream",
          "name": "stdout",
          "text": [
            "Accuracy: 0.80\n",
            "Confusion Matrix:\n",
            "[[6304  213]\n",
            " [1428  351]]\n",
            "Classification Report:\n",
            "              precision    recall  f1-score   support\n",
            "\n",
            "           0       0.82      0.97      0.88      6517\n",
            "           1       0.62      0.20      0.30      1779\n",
            "\n",
            "    accuracy                           0.80      8296\n",
            "   macro avg       0.72      0.58      0.59      8296\n",
            "weighted avg       0.77      0.80      0.76      8296\n",
            "\n"
          ]
        }
      ]
    },
    {
      "cell_type": "code",
      "source": [
        "model = SVC(kernel='linear', C=1, random_state=42)\n",
        "model.fit(X_train, y_train)\n",
        "y_pred = model.predict(X_test)\n",
        "accuracy = accuracy_score(y_test, y_pred)\n",
        "conf_matrix = confusion_matrix(y_test, y_pred)\n",
        "classification_rep = classification_report(y_test, y_pred)\n",
        "\n",
        "print(f\"Accuracy: {accuracy:.2f}\")\n",
        "print(\"Confusion Matrix:\")\n",
        "print(conf_matrix)\n",
        "print(\"Classification Report:\")\n",
        "print(classification_rep)"
      ],
      "metadata": {
        "colab": {
          "base_uri": "https://localhost:8080/"
        },
        "id": "ax6M8T_-L5az",
        "outputId": "60fbd9e7-e731-499b-8e74-7d1cdaf83fab"
      },
      "execution_count": 33,
      "outputs": [
        {
          "output_type": "stream",
          "name": "stdout",
          "text": [
            "Accuracy: 0.79\n",
            "Confusion Matrix:\n",
            "[[6371  146]\n",
            " [1590  189]]\n",
            "Classification Report:\n",
            "              precision    recall  f1-score   support\n",
            "\n",
            "           0       0.80      0.98      0.88      6517\n",
            "           1       0.56      0.11      0.18      1779\n",
            "\n",
            "    accuracy                           0.79      8296\n",
            "   macro avg       0.68      0.54      0.53      8296\n",
            "weighted avg       0.75      0.79      0.73      8296\n",
            "\n"
          ]
        }
      ]
    },
    {
      "cell_type": "code",
      "source": [
        "model = RandomForestClassifier(n_estimators=100, random_state=42)\n",
        "model.fit(X_train, y_train)\n",
        "y_pred = model.predict(X_test)\n",
        "accuracy = accuracy_score(y_test, y_pred)\n",
        "conf_matrix = confusion_matrix(y_test, y_pred)\n",
        "classification_rep = classification_report(y_test, y_pred)\n",
        "\n",
        "print(f\"Accuracy: {accuracy:.2f}\")\n",
        "print(\"Confusion Matrix:\")\n",
        "print(conf_matrix)\n",
        "print(\"Classification Report:\")\n",
        "print(classification_rep)"
      ],
      "metadata": {
        "colab": {
          "base_uri": "https://localhost:8080/"
        },
        "id": "bAV4Ut53L7sc",
        "outputId": "31bd645e-0d1b-4e1f-893a-aad8ee44c147"
      },
      "execution_count": 34,
      "outputs": [
        {
          "output_type": "stream",
          "name": "stdout",
          "text": [
            "Accuracy: 0.80\n",
            "Confusion Matrix:\n",
            "[[6385  132]\n",
            " [1542  237]]\n",
            "Classification Report:\n",
            "              precision    recall  f1-score   support\n",
            "\n",
            "           0       0.81      0.98      0.88      6517\n",
            "           1       0.64      0.13      0.22      1779\n",
            "\n",
            "    accuracy                           0.80      8296\n",
            "   macro avg       0.72      0.56      0.55      8296\n",
            "weighted avg       0.77      0.80      0.74      8296\n",
            "\n"
          ]
        }
      ]
    }
  ]
}